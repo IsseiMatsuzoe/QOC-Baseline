{
 "cells": [
  {
   "cell_type": "code",
   "execution_count": 15,
   "id": "b2516e9f",
   "metadata": {
    "pycharm": {
     "name": "#%%\n"
    }
   },
   "outputs": [],
   "source": [
    "# ++++++++++++++++++++++++++++++++++++++++++++++++++++++++++++++++++++++++++++++++++++++++\n",
    "#  Copyright 2021-  QuOCS Team\n",
    "#\n",
    "#  Licensed under the Apache License, Version 2.0 (the \"License\");\n",
    "#  you may not use this file except in compliance with the License.\n",
    "#  You may obtain a copy of the License at\n",
    "#\n",
    "#      http://www.apache.org/licenses/LICENSE-2.0\n",
    "#\n",
    "#  Unless required by applicable law or agreed to in writing, software\n",
    "#  distributed under the License is distributed on an \"AS IS\" BASIS,\n",
    "#  WITHOUT WARRANTIES OR CONDITIONS OF ANY KIND, either express or implied.\n",
    "#  See the License for the specific language governing permissions and\n",
    "#  limitations under the License.\n",
    "# ++++++++++++++++++++++++++++++++++++++++++++++++++++++++++++++++++++++++++++++++++++++++"
   ]
  },
  {
   "cell_type": "markdown",
   "id": "f3471d4a",
   "metadata": {},
   "source": [
    "Copied from \n",
    "https://github.com/Quantum-OCS"
   ]
  },
  {
   "cell_type": "code",
   "execution_count": 16,
   "id": "54ea90a8",
   "metadata": {
    "pycharm": {
     "name": "#%%\n"
    }
   },
   "outputs": [],
   "source": [
    "import matplotlib.pyplot as plt\n",
    "import os"
   ]
  },
  {
   "cell_type": "markdown",
   "id": "dc084c47",
   "metadata": {
    "pycharm": {
     "name": "#%% md\n"
    }
   },
   "source": [
    "# Ising model optimization"
   ]
  },
  {
   "cell_type": "markdown",
   "id": "204bf1d0",
   "metadata": {
    "pycharm": {
     "name": "#%% md\n"
    }
   },
   "source": [
    "### The model"
   ]
  },
  {
   "cell_type": "markdown",
   "id": "24685c1e",
   "metadata": {
    "pycharm": {
     "name": "#%% md\n"
    }
   },
   "source": [
    "We take an Ising model Hamiltonian as our example problem, where *J* and *g* describe the nearest and next-nearest neighbor interaction of an Ising spin chain of *n* qubits. A global control field in the x-direction *u(t)* is used for the control of the system."
   ]
  },
  {
   "cell_type": "markdown",
   "id": "e57d72d1",
   "metadata": {
    "pycharm": {
     "name": "#%% md\n"
    }
   },
   "source": [
    "$H(t) = - J \\sum_{j}^{n} \\sigma_j^z \\sigma_{j+1}^z \\; - g \\sum_{j}^{n} \\sigma_j^z \\sigma_{j+2}^z \\; + u(t) \\sum_{j}^{n} \\sigma_j^x \\;$"
   ]
  },
  {
   "cell_type": "markdown",
   "id": "37b36787",
   "metadata": {
    "pycharm": {
     "name": "#%% md\n"
    }
   },
   "source": [
    "## GRAPE Optimization"
   ]
  },
  {
   "cell_type": "markdown",
   "id": "44d9d3ff",
   "metadata": {
    "pycharm": {
     "name": "#%% md\n"
    }
   },
   "source": [
    "### Define the Model\n",
    "\n",
    "The user must write a class that is a child of the AbstractFoM class provided by QuOCS to define the problem to be solved. It must contain at least a function called get_FoM which takes the pulses, parameters and times as lists of numpy arrays (or floats for the parameters) and returns a dictionary with the figure of merit (FoM) under the key \"FoM\". What happens inside the get_FoM function is up to the user. \n",
    "\n",
    "In this code one can define *J* and *g* and the number of qubits, as well as the desired initial and target state after evolution of the Hamiltonian under the control field *u(t)*. In get_FoM the pulses are taken to caluclate the evolution under above Hamiltonian and the propagator is applied to the initial state. The resulting final state is overlapped with the target state to extract to state fidelity. This is passed back as a FoM."
   ]
  },
  {
   "cell_type": "code",
   "execution_count": 17,
   "id": "ba21c733",
   "metadata": {
    "pycharm": {
     "name": "#%%\n"
    }
   },
   "outputs": [],
   "source": [
    "import numpy as np\n",
    "from quocslib.utils.AbstractFoM import AbstractFoM\n",
    "from quocslib.timeevolution.piecewise_integrator import pw_evolution\n",
    "import functools\n",
    "from scipy.linalg import sqrtm\n",
    "\n",
    "\n",
    "def tensor_together(A):\n",
    "    \"\"\"Takes a list of matrices and multiplies them together with the tensor product\"\"\"\n",
    "    res = np.kron(A[0], A[1])\n",
    "    if len(A) > 2:\n",
    "        for two in A[2:]:\n",
    "            res = np.kron(res, two)\n",
    "    else:\n",
    "        res = res\n",
    "    return res\n",
    "\n",
    "\n",
    "def get_static_hamiltonian(nqu, J, g):\n",
    "    \"\"\"\n",
    "    Get the static Hamiltonian for the Ising model\n",
    "    :param nqu: Number of qubits\n",
    "    :param J: Nearest neighbour coupling\n",
    "    :param g: Next-nearest neighbour coupling\n",
    "    :return: The Hamiltonian\n",
    "    \"\"\"\n",
    "    dim = 2**nqu\n",
    "    H0 = np.zeros((dim, dim), dtype=np.complex128)\n",
    "    i2 = np.eye(2)\n",
    "    sz = np.array([[1, 0], [0, -1]], dtype=\"complex\")\n",
    "    for j in range(nqu):\n",
    "        # set up holding array\n",
    "        rest = [i2] * nqu\n",
    "        # set the correct elements to sz\n",
    "        # check, so we can implement a loop around\n",
    "        if j == nqu - 1:\n",
    "            idx1 = j\n",
    "            idx2 = 0\n",
    "        else:\n",
    "            idx1 = j\n",
    "            idx2 = j + 1\n",
    "        rest[idx1] = sz\n",
    "        rest[idx2] = sz\n",
    "        H0 = H0 - J * tensor_together(rest)\n",
    "\n",
    "    for j in range(nqu):\n",
    "        # set up holding array\n",
    "        rest = [i2] * nqu\n",
    "        # set the correct elements to sz\n",
    "        # check, so we can implement a loop around\n",
    "        if j == nqu - 1:\n",
    "            idx1 = j\n",
    "            idx2 = 1\n",
    "        elif j == nqu - 2:\n",
    "            idx1 = j\n",
    "            idx2 = 0\n",
    "        else:\n",
    "            idx1 = j\n",
    "            idx2 = j + 2\n",
    "        rest[idx1] = sz\n",
    "        rest[idx2] = sz\n",
    "        H0 = H0 - g * tensor_together(rest)\n",
    "    return H0\n",
    "\n",
    "\n",
    "def get_control_hamiltonian(nqu: int):\n",
    "    \"\"\"\"\n",
    "    Get the control Hamiltonian for the Ising model\n",
    "    :param nqu: Number of qubits\n",
    "    :return: The Hamiltonian\n",
    "    \"\"\"\n",
    "    dim = 2**nqu\n",
    "    H_at_t = np.zeros((dim, dim), dtype=np.complex128)\n",
    "    i2 = np.eye(2)\n",
    "    sx = np.array([[0, 1], [1, 0]], dtype=\"complex\")\n",
    "    for j in range(nqu):\n",
    "        # set up holding array\n",
    "        rest = [i2] * nqu\n",
    "        # set the correct elements to sz\n",
    "        # check, so we can implement a loop around\n",
    "        rest[j] = sx\n",
    "        H_at_t = H_at_t + tensor_together(rest)\n",
    "    return H_at_t\n",
    "\n",
    "\n",
    "def get_initial_state(nqu: int):\n",
    "    \"\"\"\n",
    "    Get the initial state for the Ising model\n",
    "    :param nqu:\n",
    "    :return: Initial state density matrix\n",
    "    \"\"\"\n",
    "    rho0 = np.array([[1, 0], [0, 0]], dtype=np.complex128)\n",
    "    state = [rho0] * nqu\n",
    "    return tensor_together(state)\n",
    "\n",
    "\n",
    "def get_target_state(nqu: int):\n",
    "    \"\"\"\n",
    "    Get the target state for the Ising model\n",
    "    :param nqu:\n",
    "    :return: Target state density matrix\n",
    "    \"\"\"\n",
    "    rhoT = np.array([[0, 0], [0, 1]], dtype=np.complex128)\n",
    "    state = [rhoT] * nqu\n",
    "    return tensor_together(state)\n",
    "\n",
    "\n",
    "def fidelity_funct(rho_evolved, rho_aim):\n",
    "    \"\"\"\n",
    "    Function to calculate the overlap between two density matrices.\n",
    "    :param rho_evolved:\n",
    "    :param rho_aim:\n",
    "    :return: overlap fidelity\n",
    "    \"\"\"\n",
    "    return np.abs(np.trace(sqrtm(sqrtm(rho_evolved) @ rho_aim @ sqrtm(rho_evolved)))) ** 2\n",
    "\n",
    "\n",
    "class IsingModel(AbstractFoM):\n",
    "    \"\"\"\n",
    "    A figure of merit class for optimization of the problem defined by Alastair Marshall via\n",
    "    https://arxiv.org/abs/2110.06187\n",
    "    \"\"\"\n",
    "    def __init__(self, args_dict: dict = None):\n",
    "        if args_dict is None:\n",
    "            args_dict = {}\n",
    "\n",
    "        ################################################################################################################\n",
    "        # Dynamics variables\n",
    "        ################################################################################################################\n",
    "        self.n_qubits = args_dict.setdefault(\"n_qubits\", 5)\n",
    "        self.J = args_dict.setdefault(\"J\", 1)\n",
    "        self.g = args_dict.setdefault(\"g\", 2)\n",
    "        self.n_slices = args_dict.setdefault(\"n_slices\", 100)\n",
    "\n",
    "        self.is_maximization = args_dict.setdefault(\"is_maximization\", False)\n",
    "        self.FoM_factor = 1\n",
    "        if self.is_maximization:\n",
    "            self.FoM_factor = -1\n",
    "\n",
    "        self.H_drift = get_static_hamiltonian(self.n_qubits, self.J, self.g)\n",
    "        self.H_control = get_control_hamiltonian(self.n_qubits)\n",
    "        self.rho_0 = get_initial_state(self.n_qubits)\n",
    "        self.rho_target = get_target_state(self.n_qubits)\n",
    "        self.rho_final = np.zeros_like(self.rho_target)\n",
    "        # allocate memory for the list containing the propagators\n",
    "        self.prop_store = [np.zeros_like(self.H_drift) for _ in range(self.n_slices)]\n",
    "        # Check if the propagators are already computed\n",
    "        self.propagators_are_computed = False\n",
    "\n",
    "    def get_control_Hamiltonians(self):\n",
    "        return self.H_control\n",
    "\n",
    "    def get_drift_Hamiltonian(self):\n",
    "        return self.H_drift\n",
    "\n",
    "    def get_target_state(self):\n",
    "        return self.rho_target\n",
    "\n",
    "    def get_initial_state(self):\n",
    "        return self.rho_0\n",
    "\n",
    "    def get_propagator(self,\n",
    "                       pulses_list: list = [],\n",
    "                       time_grids_list: list = [],\n",
    "                       parameters_list: list = []) -> np.array:\n",
    "        \"\"\"\n",
    "        Compute and return the list of propagators\n",
    "        :param pulses_list: List of pulses\n",
    "        :param time_grids_list: List of time grids\n",
    "        :param parameters_list: List of parameters\n",
    "        :return: List of propagators\"\"\"\n",
    "        drive = pulses_list[0].reshape(1, len(pulses_list[0]))\n",
    "        n_slices = self.n_slices\n",
    "        time_grid = time_grids_list[0]\n",
    "        # dt = time_grid[1] - time_grid[0]\n",
    "        dt = time_grid[-1] / len(time_grid)\n",
    "        # Compute the time evolution\n",
    "        self.prop_store = pw_evolution(self.prop_store, drive, self.H_drift, [self.H_control], n_slices, dt)\n",
    "        self.propagators_are_computed = True\n",
    "        return self.prop_store\n",
    "\n",
    "    def get_FoM(self, pulses: list = [], parameters: list = [], timegrids: list = []) -> dict:\n",
    "        \"\"\"\n",
    "        Compute and return the figure of merit\n",
    "        :param pulses: List of pulses\n",
    "        :param parameters: List of parameters\n",
    "        :param timegrids: List of time grids\n",
    "        :return dict: Figure of merit in a dictionary\n",
    "        \"\"\"\n",
    "        # Check if the propagator list is computed before compute the final propagator\n",
    "        if not self.propagators_are_computed:\n",
    "            self.get_propagator(pulses_list=pulses, time_grids_list=timegrids, parameters_list=parameters)\n",
    "        self.propagators_are_computed = False\n",
    "        # Compute the final propagator\n",
    "        U_final = functools.reduce(lambda a, b: b @ a, self.prop_store)\n",
    "        # evolve initial state\n",
    "        rho_final = U_final @ self.rho_0 @ U_final.T.conj()\n",
    "        # Calculate the fidelity\n",
    "        fidelity = -1 * self.FoM_factor * fidelity_funct(rho_final.T, self.rho_target)\n",
    "        return {\"FoM\": fidelity}\n"
   ]
  },
  {
   "cell_type": "markdown",
   "id": "c4c2581a",
   "metadata": {
    "pycharm": {
     "name": "#%% md\n"
    }
   },
   "source": [
    "### Define the configuration dictionary\n",
    "This dictionary is passed to the QuOCS optimized in order to tell it what optimization algorithm to use. I also contains further settings for the optimization process.\n",
    "\n",
    "First, we give the optimization a name, which will also appear in the name of the results folder generated."
   ]
  },
  {
   "cell_type": "code",
   "execution_count": 18,
   "id": "6d4fb70b",
   "metadata": {
    "pycharm": {
     "name": "#%%\n"
    }
   },
   "outputs": [],
   "source": [
    "optimization_dictionary = {\"optimization_client_name\": \"IsingModelGRAPE\"}"
   ]
  },
  {
   "cell_type": "markdown",
   "id": "ea8b5b6c",
   "metadata": {
    "pycharm": {
     "name": "#%% md\n"
    }
   },
   "source": [
    "#### Settings for the optimization algorithm\n",
    "The \"algotithm_settings\" key in gets a dictionary with the name of the algorithm. In this case we use the GRAPE algorithm."
   ]
  },
  {
   "cell_type": "code",
   "execution_count": 19,
   "id": "efa386db",
   "metadata": {
    "pycharm": {
     "name": "#%%\n"
    }
   },
   "outputs": [],
   "source": [
    "optimization_dictionary[\"algorithm_settings\"] = {\"algorithm_name\": \"GRAPE\"}"
   ]
  },
  {
   "cell_type": "markdown",
   "id": "dc75bc7d",
   "metadata": {
    "pycharm": {
     "name": "#%% md\n"
    }
   },
   "source": [
    "Now we define some settings for GRAPE: Since we want to maximize the state overlap with the target state, we set the optimization direction to \"maximization\"."
   ]
  },
  {
   "cell_type": "code",
   "execution_count": 20,
   "id": "db042f0b",
   "metadata": {
    "pycharm": {
     "name": "#%%\n"
    }
   },
   "outputs": [],
   "source": [
    "optimization_dictionary[\"algorithm_settings\"][\"optimization_direction\"] = \"maximization\""
   ]
  },
  {
   "cell_type": "markdown",
   "id": "e0f6eb7a",
   "metadata": {
    "pycharm": {
     "name": "#%% md\n"
    }
   },
   "source": [
    "#### The Controls\n",
    "The controls are given by a pulse in x-direction. Let's give it some limits, a discretization (100 bins) and an initial variation of the pulse amplitudes. For GRAPE one has to use the piecewise constant basis, so the variation is the change of each value of the amplitude in each time bin. Typically ~30\\% of the maximal possible amplitude is a useful starting value. We also connect a time object named \"time_1\" (defined later) to the pulse to tell it about the duration of the pulse."
   ]
  },
  {
   "cell_type": "code",
   "execution_count": 21,
   "id": "59677db5",
   "metadata": {
    "pycharm": {
     "name": "#%%\n"
    }
   },
   "outputs": [],
   "source": [
    "pulse_x = {\"pulse_name\": \"Pulse_1\",\n",
    "           \"upper_limit\": 100.0,\n",
    "           \"lower_limit\": -100.0,\n",
    "           \"bins_number\": 100,\n",
    "           \"amplitude_variation\": 30.0,\n",
    "           \"time_name\": \"time_1\"\n",
    "           }"
   ]
  },
  {
   "cell_type": "markdown",
   "id": "22991ede",
   "metadata": {
    "pycharm": {
     "name": "#%% md\n"
    }
   },
   "source": [
    "### The basis\n",
    "The \"basis\" option for GRAPE has to be \"PiecewiseBasis\"."
   ]
  },
  {
   "cell_type": "code",
   "execution_count": 22,
   "id": "ac9a4550",
   "metadata": {
    "pycharm": {
     "name": "#%%\n"
    }
   },
   "outputs": [],
   "source": [
    "pulse_x[\"basis\"] = {\"basis_name\": \"PiecewiseBasis\"}"
   ]
  },
  {
   "cell_type": "markdown",
   "id": "178d5523",
   "metadata": {
    "pycharm": {
     "name": "#%% md\n"
    }
   },
   "source": [
    "#### The times\n",
    "If there are several pulses on differen timescales, you can define different times here and link them to the pulses accordingly. In our case we have the aforementioned \"time_1\" which we set to 1."
   ]
  },
  {
   "cell_type": "code",
   "execution_count": 23,
   "id": "0160107f",
   "metadata": {
    "pycharm": {
     "name": "#%%\n"
    }
   },
   "outputs": [],
   "source": [
    "time1 = {\"time_name\": \"time_1\",\n",
    "         \"initial_value\": 1.0 }"
   ]
  },
  {
   "cell_type": "markdown",
   "id": "ce6e1ff4",
   "metadata": {
    "pycharm": {
     "name": "#%% md\n"
    }
   },
   "source": [
    "Now, let's insert the controls in the optimization_dictionary"
   ]
  },
  {
   "cell_type": "code",
   "execution_count": 24,
   "id": "774af28b",
   "metadata": {
    "pycharm": {
     "name": "#%%\n"
    }
   },
   "outputs": [],
   "source": [
    "optimization_dictionary[\"pulses\"] = [pulse_x]\n",
    "optimization_dictionary[\"parameters\"] = []\n",
    "optimization_dictionary[\"times\"] = [time1]"
   ]
  },
  {
   "cell_type": "markdown",
   "id": "4b404a38",
   "metadata": {
    "pycharm": {
     "name": "#%% md\n"
    }
   },
   "source": [
    "### Create the optimizer and run the optimization\n",
    "All you need to do now is to import the Optimizer from QuOCS and create an optimization object by passing an instance of the FoM object (here IsingModel()) and the optimization_dictionary."
   ]
  },
  {
   "cell_type": "code",
   "execution_count": 25,
   "id": "b6ae47d2",
   "metadata": {
    "pycharm": {
     "name": "#%%\n"
    }
   },
   "outputs": [
    {
     "name": "stdout",
     "output_type": "stream",
     "text": [
      "INFO     oc_logger    The optimization direction is maximization\n",
      "INFO     oc_logger    Random number generator from the numpy library, version 2.2.5\n"
     ]
    }
   ],
   "source": [
    "from quocslib.Optimizer import Optimizer\n",
    "import time\n",
    "\n",
    "optimization_obj = Optimizer(optimization_dictionary, IsingModel({\"is_maximization\": True}))"
   ]
  },
  {
   "cell_type": "markdown",
   "id": "bf5cd35c",
   "metadata": {},
   "source": [
    "To run the optimization, call the .execute() function on the optimization object."
   ]
  },
  {
   "cell_type": "code",
   "execution_count": 26,
   "id": "c3514c85",
   "metadata": {
    "pycharm": {
     "name": "#%%\n"
    }
   },
   "outputs": [
    {
     "name": "stdout",
     "output_type": "stream",
     "text": [
      "INFO     oc_logger    QuOCS version number: 0.0.66\n"
     ]
    },
    {
     "name": "stdout",
     "output_type": "stream",
     "text": [
      "INFO     oc_logger    New record achieved. Previous FoM: -10000000000, new best FoM : 0.30923210135851215\n",
      "INFO     oc_logger    Function evaluation number: 1, FoM: 0.30923210135851215\n",
      "INFO     oc_logger    New record achieved. Previous FoM: 0.30923210135851215, new best FoM : 0.33926030833290494\n",
      "INFO     oc_logger    Function evaluation number: 2, FoM: 0.33926030833290494\n",
      "INFO     oc_logger    New record achieved. Previous FoM: 0.33926030833290494, new best FoM : 0.3663860192965482\n",
      "INFO     oc_logger    Function evaluation number: 3, FoM: 0.3663860192965482\n",
      "INFO     oc_logger    New record achieved. Previous FoM: 0.3663860192965482, new best FoM : 0.40328699289173486\n",
      "INFO     oc_logger    Function evaluation number: 4, FoM: 0.40328699289173486\n",
      "INFO     oc_logger    New record achieved. Previous FoM: 0.40328699289173486, new best FoM : 0.4459907554263867\n",
      "INFO     oc_logger    Function evaluation number: 5, FoM: 0.4459907554263867\n",
      "INFO     oc_logger    New record achieved. Previous FoM: 0.4459907554263867, new best FoM : 0.5039145555120704\n",
      "INFO     oc_logger    Function evaluation number: 6, FoM: 0.5039145555120704\n",
      "INFO     oc_logger    New record achieved. Previous FoM: 0.5039145555120704, new best FoM : 0.5391570329903973\n",
      "INFO     oc_logger    Function evaluation number: 7, FoM: 0.5391570329903973\n",
      "INFO     oc_logger    New record achieved. Previous FoM: 0.5391570329903973, new best FoM : 0.5613364677712389\n",
      "INFO     oc_logger    Function evaluation number: 8, FoM: 0.5613364677712389\n",
      "INFO     oc_logger    New record achieved. Previous FoM: 0.5613364677712389, new best FoM : 0.5720505561617915\n",
      "INFO     oc_logger    Function evaluation number: 9, FoM: 0.5720505561617915\n",
      "INFO     oc_logger    New record achieved. Previous FoM: 0.5720505561617915, new best FoM : 0.5969287892149543\n",
      "INFO     oc_logger    Function evaluation number: 10, FoM: 0.5969287892149543\n",
      "INFO     oc_logger    New record achieved. Previous FoM: 0.5969287892149543, new best FoM : 0.6136406728244679\n",
      "INFO     oc_logger    Function evaluation number: 11, FoM: 0.6136406728244679\n",
      "INFO     oc_logger    New record achieved. Previous FoM: 0.6136406728244679, new best FoM : 0.6355618789706812\n",
      "INFO     oc_logger    Function evaluation number: 12, FoM: 0.6355618789706812\n",
      "INFO     oc_logger    Function evaluation number: 13, FoM: 0.6019020167742778\n",
      "INFO     oc_logger    New record achieved. Previous FoM: 0.6355618789706812, new best FoM : 0.6482739470939466\n",
      "INFO     oc_logger    Function evaluation number: 14, FoM: 0.6482739470939466\n",
      "INFO     oc_logger    New record achieved. Previous FoM: 0.6482739470939466, new best FoM : 0.7189262879016234\n",
      "INFO     oc_logger    Function evaluation number: 15, FoM: 0.7189262879016234\n",
      "INFO     oc_logger    New record achieved. Previous FoM: 0.7189262879016234, new best FoM : 0.8881212784459863\n",
      "INFO     oc_logger    Function evaluation number: 16, FoM: 0.8881212784459863\n",
      "INFO     oc_logger    New record achieved. Previous FoM: 0.8881212784459863, new best FoM : 0.9604417025309127\n",
      "INFO     oc_logger    Function evaluation number: 17, FoM: 0.9604417025309127\n",
      "INFO     oc_logger    New record achieved. Previous FoM: 0.9604417025309127, new best FoM : 0.972212956403892\n",
      "INFO     oc_logger    Function evaluation number: 18, FoM: 0.972212956403892\n",
      "INFO     oc_logger    New record achieved. Previous FoM: 0.972212956403892, new best FoM : 0.9749025215717878\n",
      "INFO     oc_logger    Function evaluation number: 19, FoM: 0.9749025215717878\n",
      "INFO     oc_logger    New record achieved. Previous FoM: 0.9749025215717878, new best FoM : 0.9769212483233983\n",
      "INFO     oc_logger    Function evaluation number: 20, FoM: 0.9769212483233983\n",
      "INFO     oc_logger    New record achieved. Previous FoM: 0.9769212483233983, new best FoM : 0.979315117772269\n",
      "INFO     oc_logger    Function evaluation number: 21, FoM: 0.979315117772269\n",
      "INFO     oc_logger    New record achieved. Previous FoM: 0.979315117772269, new best FoM : 0.9822075645023063\n",
      "INFO     oc_logger    Function evaluation number: 22, FoM: 0.9822075645023063\n",
      "INFO     oc_logger    New record achieved. Previous FoM: 0.9822075645023063, new best FoM : 0.9822229467352306\n",
      "INFO     oc_logger    Function evaluation number: 23, FoM: 0.9822229467352306\n",
      "INFO     oc_logger    New record achieved. Previous FoM: 0.9822229467352306, new best FoM : 0.9833301337370816\n",
      "INFO     oc_logger    Function evaluation number: 24, FoM: 0.9833301337370816\n",
      "INFO     oc_logger    New record achieved. Previous FoM: 0.9833301337370816, new best FoM : 0.9845312595245143\n",
      "INFO     oc_logger    Function evaluation number: 25, FoM: 0.9845312595245143\n",
      "INFO     oc_logger    New record achieved. Previous FoM: 0.9845312595245143, new best FoM : 0.984741757984938\n",
      "INFO     oc_logger    Function evaluation number: 26, FoM: 0.984741757984938\n",
      "INFO     oc_logger    New record achieved. Previous FoM: 0.984741757984938, new best FoM : 0.9848513562611987\n",
      "INFO     oc_logger    Function evaluation number: 27, FoM: 0.9848513562611987\n",
      "INFO     oc_logger    New record achieved. Previous FoM: 0.9848513562611987, new best FoM : 0.9850526726659535\n",
      "INFO     oc_logger    Function evaluation number: 28, FoM: 0.9850526726659535\n",
      "INFO     oc_logger    New record achieved. Previous FoM: 0.9850526726659535, new best FoM : 0.9853259066961443\n",
      "INFO     oc_logger    Function evaluation number: 29, FoM: 0.9853259066961443\n",
      "INFO     oc_logger    New record achieved. Previous FoM: 0.9853259066961443, new best FoM : 0.9855118040387911\n",
      "INFO     oc_logger    Function evaluation number: 30, FoM: 0.9855118040387911\n",
      "INFO     oc_logger    New record achieved. Previous FoM: 0.9855118040387911, new best FoM : 0.9855535096541156\n",
      "INFO     oc_logger    Function evaluation number: 31, FoM: 0.9855535096541156\n",
      "INFO     oc_logger    New record achieved. Previous FoM: 0.9855535096541156, new best FoM : 0.9860824637229979\n",
      "INFO     oc_logger    Function evaluation number: 32, FoM: 0.9860824637229979\n",
      "INFO     oc_logger    New record achieved. Previous FoM: 0.9860824637229979, new best FoM : 0.9863247606479305\n",
      "INFO     oc_logger    Function evaluation number: 33, FoM: 0.9863247606479305\n",
      "INFO     oc_logger    New record achieved. Previous FoM: 0.9863247606479305, new best FoM : 0.9865923391060512\n",
      "INFO     oc_logger    Function evaluation number: 34, FoM: 0.9865923391060512\n",
      "INFO     oc_logger    New record achieved. Previous FoM: 0.9865923391060512, new best FoM : 0.9875454277010749\n",
      "INFO     oc_logger    Function evaluation number: 35, FoM: 0.9875454277010749\n",
      "INFO     oc_logger    New record achieved. Previous FoM: 0.9875454277010749, new best FoM : 0.9892461677819041\n",
      "INFO     oc_logger    Function evaluation number: 36, FoM: 0.9892461677819041\n",
      "INFO     oc_logger    Function evaluation number: 37, FoM: 0.9515773520888188\n",
      "INFO     oc_logger    New record achieved. Previous FoM: 0.9892461677819041, new best FoM : 0.9894060485571511\n",
      "INFO     oc_logger    Function evaluation number: 38, FoM: 0.9894060485571511\n",
      "INFO     oc_logger    New record achieved. Previous FoM: 0.9894060485571511, new best FoM : 0.9895093004561447\n",
      "INFO     oc_logger    Function evaluation number: 39, FoM: 0.9895093004561447\n",
      "INFO     oc_logger    New record achieved. Previous FoM: 0.9895093004561447, new best FoM : 0.9901438810093162\n",
      "INFO     oc_logger    Function evaluation number: 40, FoM: 0.9901438810093162\n",
      "INFO     oc_logger    New record achieved. Previous FoM: 0.9901438810093162, new best FoM : 0.990528881864098\n",
      "INFO     oc_logger    Function evaluation number: 41, FoM: 0.990528881864098\n",
      "INFO     oc_logger    New record achieved. Previous FoM: 0.990528881864098, new best FoM : 0.9910426671757991\n",
      "INFO     oc_logger    Function evaluation number: 42, FoM: 0.9910426671757991\n",
      "INFO     oc_logger    New record achieved. Previous FoM: 0.9910426671757991, new best FoM : 0.9921122770193364\n",
      "INFO     oc_logger    Function evaluation number: 43, FoM: 0.9921122770193364\n",
      "INFO     oc_logger    Function evaluation number: 44, FoM: 0.9881281531680358\n",
      "INFO     oc_logger    New record achieved. Previous FoM: 0.9921122770193364, new best FoM : 0.992547443134026\n",
      "INFO     oc_logger    Function evaluation number: 45, FoM: 0.992547443134026\n",
      "INFO     oc_logger    New record achieved. Previous FoM: 0.992547443134026, new best FoM : 0.993113030235307\n",
      "INFO     oc_logger    Function evaluation number: 46, FoM: 0.993113030235307\n",
      "INFO     oc_logger    New record achieved. Previous FoM: 0.993113030235307, new best FoM : 0.9931797186731455\n",
      "INFO     oc_logger    Function evaluation number: 47, FoM: 0.9931797186731455\n",
      "INFO     oc_logger    New record achieved. Previous FoM: 0.9931797186731455, new best FoM : 0.9932215878114148\n",
      "INFO     oc_logger    Function evaluation number: 48, FoM: 0.9932215878114148\n",
      "INFO     oc_logger    New record achieved. Previous FoM: 0.9932215878114148, new best FoM : 0.9933539930512951\n",
      "INFO     oc_logger    Function evaluation number: 49, FoM: 0.9933539930512951\n",
      "INFO     oc_logger    New record achieved. Previous FoM: 0.9933539930512951, new best FoM : 0.9934946428349682\n",
      "INFO     oc_logger    Function evaluation number: 50, FoM: 0.9934946428349682\n",
      "INFO     oc_logger    Function evaluation number: 51, FoM: 0.9934348652435093\n",
      "INFO     oc_logger    New record achieved. Previous FoM: 0.9934946428349682, new best FoM : 0.993555048128755\n",
      "INFO     oc_logger    Function evaluation number: 52, FoM: 0.993555048128755\n",
      "INFO     oc_logger    Function evaluation number: 53, FoM: 0.9928634467414319\n",
      "INFO     oc_logger    New record achieved. Previous FoM: 0.993555048128755, new best FoM : 0.9936198868652724\n",
      "INFO     oc_logger    Function evaluation number: 54, FoM: 0.9936198868652724\n",
      "INFO     oc_logger    Function evaluation number: 55, FoM: 0.9933811088457762\n",
      "INFO     oc_logger    New record achieved. Previous FoM: 0.9936198868652724, new best FoM : 0.9936721324970659\n",
      "INFO     oc_logger    Function evaluation number: 56, FoM: 0.9936721324970659\n",
      "INFO     oc_logger    New record achieved. Previous FoM: 0.9936721324970659, new best FoM : 0.9937911247360246\n",
      "INFO     oc_logger    Function evaluation number: 57, FoM: 0.9937911247360246\n",
      "INFO     oc_logger    New record achieved. Previous FoM: 0.9937911247360246, new best FoM : 0.9939508806995815\n",
      "INFO     oc_logger    Function evaluation number: 58, FoM: 0.9939508806995815\n",
      "INFO     oc_logger    New record achieved. Previous FoM: 0.9939508806995815, new best FoM : 0.9940932215223095\n",
      "INFO     oc_logger    Function evaluation number: 59, FoM: 0.9940932215223095\n",
      "INFO     oc_logger    New record achieved. Previous FoM: 0.9940932215223095, new best FoM : 0.9941768965888925\n",
      "INFO     oc_logger    Function evaluation number: 60, FoM: 0.9941768965888925\n",
      "INFO     oc_logger    New record achieved. Previous FoM: 0.9941768965888925, new best FoM : 0.9942167058170566\n",
      "INFO     oc_logger    Function evaluation number: 61, FoM: 0.9942167058170566\n",
      "INFO     oc_logger    New record achieved. Previous FoM: 0.9942167058170566, new best FoM : 0.9944932467196798\n",
      "INFO     oc_logger    Function evaluation number: 62, FoM: 0.9944932467196798\n",
      "INFO     oc_logger    New record achieved. Previous FoM: 0.9944932467196798, new best FoM : 0.9947234247982811\n",
      "INFO     oc_logger    Function evaluation number: 63, FoM: 0.9947234247982811\n",
      "INFO     oc_logger    New record achieved. Previous FoM: 0.9947234247982811, new best FoM : 0.9951775423237421\n",
      "INFO     oc_logger    Function evaluation number: 64, FoM: 0.9951775423237421\n",
      "INFO     oc_logger    New record achieved. Previous FoM: 0.9951775423237421, new best FoM : 0.9957542190232156\n",
      "INFO     oc_logger    Function evaluation number: 65, FoM: 0.9957542190232156\n",
      "INFO     oc_logger    Function evaluation number: 66, FoM: 0.9956331037527214\n",
      "INFO     oc_logger    New record achieved. Previous FoM: 0.9957542190232156, new best FoM : 0.9960554553541621\n",
      "INFO     oc_logger    Function evaluation number: 67, FoM: 0.9960554553541621\n",
      "INFO     oc_logger    New record achieved. Previous FoM: 0.9960554553541621, new best FoM : 0.996282299521834\n",
      "INFO     oc_logger    Function evaluation number: 68, FoM: 0.996282299521834\n",
      "INFO     oc_logger    New record achieved. Previous FoM: 0.996282299521834, new best FoM : 0.9967922447097146\n",
      "INFO     oc_logger    Function evaluation number: 69, FoM: 0.9967922447097146\n",
      "INFO     oc_logger    Function evaluation number: 70, FoM: 0.9963418643179163\n",
      "INFO     oc_logger    New record achieved. Previous FoM: 0.9967922447097146, new best FoM : 0.9970242112952691\n",
      "INFO     oc_logger    Function evaluation number: 71, FoM: 0.9970242112952691\n",
      "INFO     oc_logger    Function evaluation number: 72, FoM: 0.9958616316511417\n",
      "INFO     oc_logger    New record achieved. Previous FoM: 0.9970242112952691, new best FoM : 0.9971170652239856\n",
      "INFO     oc_logger    Function evaluation number: 73, FoM: 0.9971170652239856\n",
      "INFO     oc_logger    Function evaluation number: 74, FoM: 0.995475127586696\n",
      "INFO     oc_logger    New record achieved. Previous FoM: 0.9971170652239856, new best FoM : 0.9971647912840601\n",
      "INFO     oc_logger    Function evaluation number: 75, FoM: 0.9971647912840601\n",
      "INFO     oc_logger    Function evaluation number: 76, FoM: 0.9966555633120131\n",
      "INFO     oc_logger    New record achieved. Previous FoM: 0.9971647912840601, new best FoM : 0.9972298598717314\n",
      "INFO     oc_logger    Function evaluation number: 77, FoM: 0.9972298598717314\n",
      "INFO     oc_logger    Function evaluation number: 78, FoM: 0.9939892558383501\n",
      "INFO     oc_logger    Function evaluation number: 79, FoM: 0.9972248630246827\n",
      "INFO     oc_logger    New record achieved. Previous FoM: 0.9972298598717314, new best FoM : 0.9972337488399229\n",
      "INFO     oc_logger    Function evaluation number: 80, FoM: 0.9972337488399229\n",
      "INFO     oc_logger    Function evaluation number: 81, FoM: 0.9972318750697349\n",
      "INFO     oc_logger    Function evaluation number: 82, FoM: 0.9970149970936703\n",
      "INFO     oc_logger    New record achieved. Previous FoM: 0.9972337488399229, new best FoM : 0.9972678324408377\n",
      "INFO     oc_logger    Function evaluation number: 83, FoM: 0.9972678324408377\n",
      "INFO     oc_logger    Function evaluation number: 84, FoM: 0.9968667891771222\n",
      "INFO     oc_logger    New record achieved. Previous FoM: 0.9972678324408377, new best FoM : 0.9973100541023153\n",
      "INFO     oc_logger    Function evaluation number: 85, FoM: 0.9973100541023153\n",
      "INFO     oc_logger    Function evaluation number: 86, FoM: 0.9964032518734619\n",
      "INFO     oc_logger    New record achieved. Previous FoM: 0.9973100541023153, new best FoM : 0.9973414053498252\n",
      "INFO     oc_logger    Function evaluation number: 87, FoM: 0.9973414053498252\n",
      "INFO     oc_logger    New record achieved. Previous FoM: 0.9973414053498252, new best FoM : 0.9973646091189375\n",
      "INFO     oc_logger    Function evaluation number: 88, FoM: 0.9973646091189375\n",
      "INFO     oc_logger    New record achieved. Previous FoM: 0.9973646091189375, new best FoM : 0.9974177814693342\n",
      "INFO     oc_logger    Function evaluation number: 89, FoM: 0.9974177814693342\n",
      "INFO     oc_logger    New record achieved. Previous FoM: 0.9974177814693342, new best FoM : 0.9977149852269857\n",
      "INFO     oc_logger    Function evaluation number: 90, FoM: 0.9977149852269857\n",
      "INFO     oc_logger    Function evaluation number: 91, FoM: 0.9951221923606077\n",
      "INFO     oc_logger    New record achieved. Previous FoM: 0.9977149852269857, new best FoM : 0.9979554057320218\n",
      "INFO     oc_logger    Function evaluation number: 92, FoM: 0.9979554057320218\n",
      "INFO     oc_logger    Function evaluation number: 93, FoM: 0.9846639239334781\n",
      "INFO     oc_logger    New record achieved. Previous FoM: 0.9979554057320218, new best FoM : 0.9985015931844511\n",
      "INFO     oc_logger    Function evaluation number: 94, FoM: 0.9985015931844511\n",
      "INFO     oc_logger    Function evaluation number: 95, FoM: 0.9984275469291343\n",
      "INFO     oc_logger    New record achieved. Previous FoM: 0.9985015931844511, new best FoM : 0.9987580173407619\n",
      "INFO     oc_logger    Function evaluation number: 96, FoM: 0.9987580173407619\n",
      "INFO     oc_logger    New record achieved. Previous FoM: 0.9987580173407619, new best FoM : 0.9988659241066943\n",
      "INFO     oc_logger    Function evaluation number: 97, FoM: 0.9988659241066943\n",
      "INFO     oc_logger    New record achieved. Previous FoM: 0.9988659241066943, new best FoM : 0.9989045080392358\n",
      "INFO     oc_logger    Function evaluation number: 98, FoM: 0.9989045080392358\n",
      "INFO     oc_logger    Function evaluation number: 99, FoM: 0.998879859440108\n",
      "INFO     oc_logger    New record achieved. Previous FoM: 0.9989045080392358, new best FoM : 0.9989675531687833\n",
      "INFO     oc_logger    Function evaluation number: 100, FoM: 0.9989675531687833\n",
      "INFO     oc_logger    Function evaluation number: 101, FoM: 0.9989519856721989\n",
      "INFO     oc_logger    New record achieved. Previous FoM: 0.9989675531687833, new best FoM : 0.9989973327122083\n",
      "INFO     oc_logger    Function evaluation number: 102, FoM: 0.9989973327122083\n",
      "INFO     oc_logger    Function evaluation number: 103, FoM: 0.9989929624668643\n",
      "INFO     oc_logger    New record achieved. Previous FoM: 0.9989973327122083, new best FoM : 0.9989989314536436\n",
      "INFO     oc_logger    Function evaluation number: 104, FoM: 0.9989989314536436\n",
      "INFO     oc_logger    New record achieved. Previous FoM: 0.9989989314536436, new best FoM : 0.9989999226105244\n",
      "INFO     oc_logger    Function evaluation number: 105, FoM: 0.9989999226105244\n",
      "INFO     oc_logger      message: CONVERGENCE: RELATIVE REDUCTION OF F <= FACTR*EPSMCH\n",
      "  success: True\n",
      "   status: 0\n",
      "      fun: -0.9989999226105244\n",
      "        x: [-4.404e+00  1.113e+01 ... -8.850e+00 -2.184e+01]\n",
      "      nit: 77\n",
      "      jac: [ 7.282e-05  6.518e-05 ... -1.146e-04 -1.122e-04]\n",
      "     nfev: 105\n",
      "     njev: 105\n",
      " hess_inv: <100x100 LbfgsInvHessProduct with dtype=float64>\n",
      "INFO     oc_logger    Figure of merit : 0.9989999226105244\n",
      "INFO     oc_logger    nfev : 105\n",
      "The optimization took 52.99838423728943 seconds\n"
     ]
    }
   ],
   "source": [
    "time1 = time.time()\n",
    "optimization_obj.execute()\n",
    "time2 = time.time()\n",
    "print(\"The optimization took {seconds} seconds\".format(seconds=time2 - time1))"
   ]
  },
  {
   "cell_type": "markdown",
   "id": "d43d64a0",
   "metadata": {},
   "source": [
    "#### Results\n",
    "Let us visualize the optimization by looking at the evolution of the FoM over the function evaluations and the final control pulse."
   ]
  },
  {
   "cell_type": "code",
   "execution_count": 27,
   "id": "58de4c2f",
   "metadata": {
    "pycharm": {
     "name": "#%%\n"
    }
   },
   "outputs": [
    {
     "data": {
      "text/plain": [
       "Text(0, 0.5, 'Amplitude')"
      ]
     },
     "execution_count": 27,
     "metadata": {},
     "output_type": "execute_result"
    },
    {
     "data": {
      "image/png": "[encoded data removed]",
      "text/plain": [
       "<Figure size 1100x700 with 1 Axes>"
      ]
     },
     "metadata": {},
     "output_type": "display_data"
    },
    {
     "data": {
      "image/png": "[encoded data removed]",
      "text/plain": [
       "<Figure size 1100x700 with 1 Axes>"
      ]
     },
     "metadata": {},
     "output_type": "display_data"
    }
   ],
   "source": [
    "# Get the optimization algorithm object from the optimization object\n",
    "opt_alg_obj = optimization_obj.get_optimization_algorithm()\n",
    "\n",
    "# The FoM values for each function evaluation can be found under FoM_list in the optimization algorithm object\n",
    "fomlist = opt_alg_obj.FoM_list\n",
    "\n",
    "# Plot the FoM over the number of evaluations\n",
    "fig = plt.figure(figsize=(11, 7))\n",
    "ax = fig.add_subplot(111)\n",
    "iterations = range(1, len(fomlist)+1)\n",
    "ax.plot(iterations, np.asarray(fomlist), color='darkblue', linewidth=1.5, zorder=10)\n",
    "ax.scatter(iterations, np.asarray(fomlist), color='k', s=15)\n",
    "plt.grid(True, which=\"both\")\n",
    "plt.xlabel('Function Evaluation', fontsize=20)\n",
    "plt.ylabel('FoM', fontsize=20)\n",
    "\n",
    "# The optimized controls can be found via the function get_best_controls() called on \n",
    "# the optimization algorithm object\n",
    "controls = opt_alg_obj.get_best_controls()\n",
    "\n",
    "# it contains the pulses and time grids under certain keys as a dictionary\n",
    "pulse, timegrid = controls[\"pulses\"][0], controls[\"timegrids\"][0]\n",
    "\n",
    "# Plot the pulse over time\n",
    "fig = plt.figure(figsize=(11, 7))\n",
    "ax = fig.add_subplot(111)\n",
    "plt.subplots_adjust(bottom=0.15, top=0.9, right=0.98, left=0.1)\n",
    "plt.step(timegrid, pulse, color='darkgreen', linewidth=1.5, zorder=10)\n",
    "plt.grid(True, which=\"both\")\n",
    "plt.xlabel('Time', fontsize=20)\n",
    "plt.ylabel('Amplitude', fontsize=20)"
   ]
  }
 ],
 "metadata": {
  "kernelspec": {
   "display_name": ".venv",
   "language": "python",
   "name": "python3"
  },
  "language_info": {
   "codemirror_mode": {
    "name": "ipython",
    "version": 3
   },
   "file_extension": ".py",
   "mimetype": "text/x-python",
   "name": "python",
   "nbconvert_exporter": "python",
   "pygments_lexer": "ipython3",
   "version": "3.10.12"
  },
  "toc": {
   "base_numbering": 1,
   "nav_menu": {},
   "number_sections": true,
   "sideBar": true,
   "skip_h1_title": false,
   "title_cell": "Table of Contents",
   "title_sidebar": "Contents",
   "toc_cell": false,
   "toc_position": {},
   "toc_section_display": true,
   "toc_window_display": true
  }
 },
 "nbformat": 4,
 "nbformat_minor": 5
}
