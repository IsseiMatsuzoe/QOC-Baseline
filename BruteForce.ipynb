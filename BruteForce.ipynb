{
 "cells": [
  {
   "cell_type": "markdown",
   "metadata": {},
   "source": [
    "# Do bruteforce to find optimal"
   ]
  },
  {
   "cell_type": "code",
   "execution_count": 359,
   "metadata": {},
   "outputs": [],
   "source": [
    "import numpy as np\n",
    "import matplotlib.pyplot as plt\n",
    "import matplotlib\n",
    "from scipy.linalg import expm\n",
    "import itertools\n",
    "import time\n",
    "import tqdm\n",
    "matplotlib.font_manager.fontManager.addfont(\"fonts/ipag.ttf\")\n",
    "matplotlib.rcParams['font.family'] = 'IPAGothic'"
   ]
  },
  {
   "cell_type": "code",
   "execution_count": 360,
   "metadata": {},
   "outputs": [],
   "source": [
    "# Common functions and constants\n",
    "\n",
    "total_time = (1/3)*np.pi # ns\n",
    "n_steps = 5\n",
    "dt = total_time / n_steps\n",
    "\n",
    "# Pauli matrices\n",
    "sx = np.array([[0, 1], [1, 0]], dtype=np.complex128)\n",
    "sy = np.array([[0, -1j], [1j, 0]], dtype=np.complex128)\n",
    "sz = np.array([[1, 0], [0, -1]], dtype=np.complex128)\n",
    "\n",
    "\n",
    "up = np.array([[1], [0]], dtype=np.complex128)    # |0⟩\n",
    "down = np.array([[0], [1]], dtype=np.complex128)"
   ]
  },
  {
   "cell_type": "markdown",
   "metadata": {},
   "source": [
    "## Single Qubit"
   ]
  },
  {
   "cell_type": "code",
   "execution_count": 361,
   "metadata": {},
   "outputs": [],
   "source": [
    "# Define the Hamiltonian\n",
    "H_controls_single = [sx/2, sy/2, sz/2]\n",
    "H_drift = np.zeros((2,2))"
   ]
  },
  {
   "cell_type": "code",
   "execution_count": 362,
   "metadata": {},
   "outputs": [],
   "source": [
    "# Functions\n",
    "# Simulation function\n",
    "def simulate_sequence(sequence, H_controls, initial_state, dt):\n",
    "    state = initial_state.copy()\n",
    "    for idx in sequence:\n",
    "        H = H_controls[idx]\n",
    "        U = expm(-1j * H * dt)\n",
    "        state = U @ state\n",
    "    return state\n",
    "\n",
    "# Calculate the fidelity\n",
    "def calculate_fidelity(state, target_state):\n",
    "    return np.abs(np.dot(state.conj().T, target_state))**2\n",
    "\n",
    "# Brute force\n",
    "def brute_force(H_drift, H_list, initial_state, target_state, total_time, n_steps):\n",
    "    num_controls = len(H_list)\n",
    "    all_sequences = list(itertools.product(range(num_controls), repeat=n_steps))\n",
    "\n",
    "    best_fidelity = -1\n",
    "    best_sequence = None\n",
    "    best_final_state = None\n",
    "\n",
    "    for sequence in all_sequences:\n",
    "        final_state = simulate_sequence(sequence, H_list, initial_state, dt)\n",
    "        F = calculate_fidelity(final_state, target_state)\n",
    "        from tqdm.notebook import tqdm\n",
    "\n",
    "        if F > best_fidelity:\n",
    "            best_fidelity = F\n",
    "            best_sequence = sequence\n",
    "            best_final_state = final_state\n",
    "\n",
    "    return best_sequence, best_fidelity, best_final_state\n",
    "        "
   ]
  },
  {
   "cell_type": "code",
   "execution_count": 363,
   "metadata": {},
   "outputs": [],
   "source": [
    "# Run the brute force\n",
    "best_sequence, best_fidelity, best_final_state = brute_force(H_drift, H_controls_single, up, down, total_time, n_steps)"
   ]
  },
  {
   "cell_type": "code",
   "execution_count": 364,
   "metadata": {},
   "outputs": [
    {
     "name": "stdout",
     "output_type": "stream",
     "text": [
      "Best sequence: (0, 0, 0, 0, 0)\n",
      "Best fidelity: [[0.25]]\n"
     ]
    }
   ],
   "source": [
    "# Show the result\n",
    "print(f\"Best sequence: {best_sequence}\")\n",
    "print(f\"Best fidelity: {best_fidelity}\")\n"
   ]
  },
  {
   "cell_type": "markdown",
   "metadata": {},
   "source": [
    "## Double Qubits"
   ]
  },
  {
   "cell_type": "code",
   "execution_count": 365,
   "metadata": {},
   "outputs": [],
   "source": [
    "# 2キュービット用のパウリ行列とアイデンティティ\n",
    "I = np.eye(2, dtype=np.complex128)\n",
    "sx = np.array([[0, 1], [1, 0]], dtype=np.complex128)\n",
    "sy = np.array([[0, -1j], [1j, 0]], dtype=np.complex128)\n",
    "sz = np.array([[1, 0], [0, -1]], dtype=np.complex128)\n",
    "\n",
    "# Ising Modelのコントロールハミルトニアン\n",
    "XII = np.kron(sx, I) / 2\n",
    "YI = np.kron(sy, I) / 2\n",
    "IX = np.kron(I, sx) / 2\n",
    "IY = np.kron(I, sy) / 2\n",
    "ZZ = np.kron(sz, sz) / 2\n",
    "\n",
    "H_controls_two = [XI, YI, IX, IY, ZZ]\n",
    "H_drift_two = np.zeros((4, 4), dtype=np.complex128)\n",
    "\n",
    "# 2キュービット状態の定義\n",
    "up_up = np.kron(up, up)      # |00⟩\n",
    "up_down = np.kron(up, down)  # |01⟩\n",
    "down_up = np.kron(down, up)  # |10⟩\n",
    "down_down = np.kron(down, down)  # |11⟩"
   ]
  },
  {
   "cell_type": "code",
   "execution_count": 366,
   "metadata": {},
   "outputs": [],
   "source": [
    "# Calculate the fidelity\n",
    "def calculate_fidelity_2q(state, target_state):\n",
    "    return np.abs(np.dot(state.conj().T, np.kron(target_state, up)))**2 + np.abs(np.dot(state.conj().T, np.kron(target_state.conj(), down)))**2\n",
    "\n",
    "# Brute force\n",
    "def brute_force_2q(H_drift, H_list, initial_state, target_state, total_time, n_steps):\n",
    "    num_controls = len(H_list)\n",
    "    all_sequences = list(itertools.product(range(num_controls), repeat=n_steps))\n",
    "\n",
    "    best_fidelity = -1\n",
    "    best_sequence = None\n",
    "    best_final_state = None\n",
    "\n",
    "    for sequence in all_sequences:\n",
    "        final_state = simulate_sequence(sequence, H_list, initial_state, dt)\n",
    "        F = calculate_fidelity_2q(final_state, target_state)\n",
    "\n",
    "        if F > best_fidelity:\n",
    "            best_fidelity = F\n",
    "            best_sequence = sequence\n",
    "            best_final_state = final_state\n",
    "\n",
    "    return best_sequence, best_fidelity, best_final_state"
   ]
  },
  {
   "cell_type": "code",
   "execution_count": 367,
   "metadata": {},
   "outputs": [
    {
     "name": "stdout",
     "output_type": "stream",
     "text": [
      "総組み合わせ数: 25\n"
     ]
    }
   ],
   "source": [
    "# 2キュービット版のBrute Force実行\n",
    "initial_state_2q = up_up      # |00⟩から開始\n",
    "target_state = down   # |11⟩を目標\n",
    "\n",
    "# パラメータ設定\n",
    "n_steps_2q = 2\n",
    "total_combinations = len(H_controls_two) ** n_steps_2q\n",
    "print(f\"総組み合わせ数: {total_combinations}\")\n",
    "\n",
    "# Brute Force実行\n",
    "best_sequence_2q, best_fidelity_2q, best_final_state_2q = brute_force_2q(\n",
    "    H_drift_two, \n",
    "    H_controls_two, \n",
    "    initial_state_2q, \n",
    "    target_state, \n",
    "    total_time, \n",
    "    n_steps=n_steps\n",
    ")\n"
   ]
  },
  {
   "cell_type": "code",
   "execution_count": 368,
   "metadata": {},
   "outputs": [
    {
     "name": "stdout",
     "output_type": "stream",
     "text": [
      "\n",
      "=== 2キュービット結果 ===\n",
      "ベストシーケンス: (0, 0, 0, 0, 0)\n",
      "ベストフィデリティ: [[0.25]]\n",
      "ベストシーケンス名: XI -> XI -> XI -> XI -> XI\n"
     ]
    }
   ],
   "source": [
    "print(f\"\\n=== 2キュービット結果 ===\")\n",
    "print(f\"ベストシーケンス: {best_sequence_2q}\")\n",
    "print(f\"ベストフィデリティ: {best_fidelity_2q}\")\n",
    "\n",
    "# コントロール名を表示\n",
    "control_names = ['XI', 'YI', 'IX', 'IY', 'ZZ']\n",
    "sequence_names = [control_names[i] for i in best_sequence_2q]\n",
    "print(f\"ベストシーケンス名: {' -> '.join(sequence_names)}\")"
   ]
  },
  {
   "cell_type": "code",
   "execution_count": 369,
   "metadata": {},
   "outputs": [
    {
     "name": "stderr",
     "output_type": "stream",
     "text": [
      "n_stepsごとのシミュレーション:   0%|          | 0/5 [00:00<?, ?it/s]"
     ]
    },
    {
     "name": "stderr",
     "output_type": "stream",
     "text": [
      "/tmp/ipykernel_64640/3444650662.py:20: DeprecationWarning: Conversion of an array with ndim > 0 to a scalar is deprecated, and will error in future. Ensure you extract a single element from your array before performing this operation. (Deprecated NumPy 1.25.)\n",
      "  fid_1q_val = float(best_fid_1q) if isinstance(best_fid_1q, np.ndarray) else best_fid_1q\n",
      "/tmp/ipykernel_64640/3444650662.py:28: DeprecationWarning: Conversion of an array with ndim > 0 to a scalar is deprecated, and will error in future. Ensure you extract a single element from your array before performing this operation. (Deprecated NumPy 1.25.)\n",
      "  fid_2q_val = float(best_fid_2q) if isinstance(best_fid_2q, np.ndarray) else best_fid_2q\n",
      "n_stepsごとのシミュレーション:  80%|████████  | 4/5 [00:00<00:00, 34.61it/s]"
     ]
    },
    {
     "name": "stdout",
     "output_type": "stream",
     "text": [
      "n_steps=1: 1Q Fidelity=0.010926, 2Q Fidelity=0.010926\n",
      "n_steps=2: 1Q Fidelity=0.043227, 2Q Fidelity=0.043227\n",
      "n_steps=3: 1Q Fidelity=0.095492, 2Q Fidelity=0.095492\n",
      "n_steps=4: 1Q Fidelity=0.165435, 2Q Fidelity=0.165435\n"
     ]
    },
    {
     "name": "stderr",
     "output_type": "stream",
     "text": [
      "n_stepsごとのシミュレーション: 100%|██████████| 5/5 [00:00<00:00,  9.66it/s]"
     ]
    },
    {
     "name": "stdout",
     "output_type": "stream",
     "text": [
      "n_steps=5: 1Q Fidelity=0.250000, 2Q Fidelity=0.250000\n"
     ]
    },
    {
     "name": "stderr",
     "output_type": "stream",
     "text": [
      "\n"
     ]
    },
    {
     "data": {
      "image/png": "[encoded data removed]",
      "text/plain": [
       "<Figure size 1000x600 with 1 Axes>"
      ]
     },
     "metadata": {},
     "output_type": "display_data"
    },
    {
     "data": {
      "text/html": [
       "<div>\n",
       "<style scoped>\n",
       "    .dataframe tbody tr th:only-of-type {\n",
       "        vertical-align: middle;\n",
       "    }\n",
       "\n",
       "    .dataframe tbody tr th {\n",
       "        vertical-align: top;\n",
       "    }\n",
       "\n",
       "    .dataframe thead th {\n",
       "        text-align: right;\n",
       "    }\n",
       "</style>\n",
       "<table border=\"1\" class=\"dataframe\">\n",
       "  <thead>\n",
       "    <tr style=\"text-align: right;\">\n",
       "      <th></th>\n",
       "      <th>n_steps</th>\n",
       "      <th>1Q Fidelity</th>\n",
       "      <th>2Q Fidelity</th>\n",
       "    </tr>\n",
       "  </thead>\n",
       "  <tbody>\n",
       "    <tr>\n",
       "      <th>0</th>\n",
       "      <td>1</td>\n",
       "      <td>0.010926</td>\n",
       "      <td>0.010926</td>\n",
       "    </tr>\n",
       "    <tr>\n",
       "      <th>1</th>\n",
       "      <td>2</td>\n",
       "      <td>0.043227</td>\n",
       "      <td>0.043227</td>\n",
       "    </tr>\n",
       "    <tr>\n",
       "      <th>2</th>\n",
       "      <td>3</td>\n",
       "      <td>0.095492</td>\n",
       "      <td>0.095492</td>\n",
       "    </tr>\n",
       "    <tr>\n",
       "      <th>3</th>\n",
       "      <td>4</td>\n",
       "      <td>0.165435</td>\n",
       "      <td>0.165435</td>\n",
       "    </tr>\n",
       "    <tr>\n",
       "      <th>4</th>\n",
       "      <td>5</td>\n",
       "      <td>0.250000</td>\n",
       "      <td>0.250000</td>\n",
       "    </tr>\n",
       "  </tbody>\n",
       "</table>\n",
       "</div>"
      ],
      "text/plain": [
       "   n_steps  1Q Fidelity  2Q Fidelity\n",
       "0        1     0.010926     0.010926\n",
       "1        2     0.043227     0.043227\n",
       "2        3     0.095492     0.095492\n",
       "3        4     0.165435     0.165435\n",
       "4        5     0.250000     0.250000"
      ]
     },
     "metadata": {},
     "output_type": "display_data"
    }
   ],
   "source": [
    "# 1キュービットと2キュービットのシミュレーション結果をプロット\n",
    "import matplotlib.pyplot as plt\n",
    "from tqdm import tqdm\n",
    "import numpy as np\n",
    "\n",
    "# n_stepsの範囲\n",
    "n_steps_range = range(1, 6)  # 1から5まで\n",
    "\n",
    "# 結果を格納する配列\n",
    "single_qubit_fidelities = []\n",
    "two_qubit_fidelities = []\n",
    "\n",
    "# 各n_stepsでシミュレーションを実行\n",
    "for n in tqdm(n_steps_range, desc=\"n_stepsごとのシミュレーション\"):\n",
    "    # 1キュービット\n",
    "    best_seq_1q, best_fid_1q, _ = brute_force(\n",
    "        H_drift, H_controls_single, up, down, total_time, n_steps=n\n",
    "    )\n",
    "    # numpy配列をスカラー値に変換\n",
    "    fid_1q_val = float(best_fid_1q) if isinstance(best_fid_1q, np.ndarray) else best_fid_1q\n",
    "    single_qubit_fidelities.append(fid_1q_val)\n",
    "    \n",
    "    # 2キュービット\n",
    "    best_seq_2q, best_fid_2q, _ = brute_force_2q(\n",
    "        H_drift_two, H_controls_two, initial_state_2q, target_state, total_time, n_steps=n\n",
    "    )\n",
    "    # numpy配列をスカラー値に変換\n",
    "    fid_2q_val = float(best_fid_2q) if isinstance(best_fid_2q, np.ndarray) else best_fid_2q\n",
    "    two_qubit_fidelities.append(fid_2q_val)\n",
    "    \n",
    "    print(f\"n_steps={n}: 1Q Fidelity={fid_1q_val:.6f}, 2Q Fidelity={fid_2q_val:.6f}\")\n",
    "\n",
    "# プロット\n",
    "plt.figure(figsize=(10, 6))\n",
    "plt.plot(list(n_steps_range), single_qubit_fidelities, 'o-', label='1キュービット')\n",
    "plt.plot(list(n_steps_range), two_qubit_fidelities, 's-', label='2キュービット')\n",
    "plt.xlabel('Number of Steps (n_steps)')\n",
    "plt.ylabel('Optimal Fidelity')\n",
    "plt.title('Optimal Fidelity vs Number of Steps')\n",
    "plt.grid(True)\n",
    "plt.legend()\n",
    "plt.ylim(0, 1.05)\n",
    "plt.show()\n",
    "\n",
    "# 結果をテーブルとして表示\n",
    "from IPython.display import display, HTML\n",
    "import pandas as pd\n",
    "\n",
    "results_df = pd.DataFrame({\n",
    "    'n_steps': list(n_steps_range),\n",
    "    '1Q Fidelity': single_qubit_fidelities,\n",
    "    '2Q Fidelity': two_qubit_fidelities\n",
    "})\n",
    "\n",
    "display(results_df)\n"
   ]
  }
 ],
 "metadata": {
  "kernelspec": {
   "display_name": ".venv",
   "language": "python",
   "name": "python3"
  },
  "language_info": {
   "codemirror_mode": {
    "name": "ipython",
    "version": 3
   },
   "file_extension": ".py",
   "mimetype": "text/x-python",
   "name": "python",
   "nbconvert_exporter": "python",
   "pygments_lexer": "ipython3",
   "version": "3.10.12"
  }
 },
 "nbformat": 4,
 "nbformat_minor": 2
}
