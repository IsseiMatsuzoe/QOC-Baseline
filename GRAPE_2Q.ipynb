{
 "cells": [
  {
   "cell_type": "code",
   "execution_count": null,
   "metadata": {
    "vscode": {
     "languageId": "plaintext"
    }
   },
   "outputs": [],
   "source": [
    "import numpy as np\n",
    "import matplotlib.pyplot as plt\n",
    "import matplotlib\n",
    "from scipy.optimize import minimize\n",
    "from scipy.linalg import expm\n",
    "import time\n",
    "matplotlib.font_manager.fontManager.addfont(\"fonts/ipag.ttf\")\n",
    "matplotlib.rcParams['font.family'] = 'IPAGothic'"
   ]
  },
  {
   "cell_type": "code",
   "execution_count": null,
   "metadata": {
    "vscode": {
     "languageId": "plaintext"
    }
   },
   "outputs": [],
   "source": [
    "# シミュレーションパラメータ\n",
    "total_time = 0.9*np.pi # ns\n",
    "n_steps = 2500 #時間スライス数\n",
    "dt = total_time / n_steps #スライス幅\n",
    "\n",
    "# パウリ行列\n",
    "sx = np.array([[0, 1], [1, 0]], dtype=np.complex128)\n",
    "sy = np.array([[0, -1j], [1j, 0]], dtype=np.complex128)\n",
    "sz = np.array([[1, 0], [0, -1]], dtype=np.complex128)\n",
    "identity = np.eye(2, dtype=np.complex128)\n",
    "\n",
    "# 2 Qubitのminimal set(イジング相互作用)\n",
    "xi = np.kron(sx, identity)\n",
    "yi = np.kron(sy, identity)\n",
    "ix = np.kron(identity, sx)\n",
    "iy = np.kron(identity, sy)\n",
    "zz = np.kron(sz, sz)\n",
    "\n",
    "# 状態\n",
    "down = np.array([[0], [1]], dtype=np.complex128)  # |1⟩\n",
    "up = np.array([[1], [0]], dtype=np.complex128)    # |0⟩\n",
    "\n",
    "# ハミルトニアン\n",
    "H_controls = [xi, yi, ix, iy, zz]\n",
    "H_drift =  np.kron(np.zeros((2, 2), dtype=np.complex128), np.zeros((2, 2), dtype=np.complex128))"
   ]
  },
  {
   "cell_type": "code",
   "execution_count": null,
   "metadata": {
    "vscode": {
     "languageId": "plaintext"
    }
   },
   "outputs": [],
   "source": [
    "initial_state = np.kron(up, up)\n",
    "target_state = np.kron(down, up)\n",
    "\n",
    "# コスト関数\n",
    "def fidelity(arbitrary_state: np.ndarray, target_state: np.ndarray):\n",
    "    \"\"\"\n",
    "    コスト関数を計算する\n",
    "    \n",
    "    \"\"\"\n",
    "    F = np.abs(target_state.conj().T @ arbitrary_state)[0, 0]**2\n",
    "    return F\n",
    "\n",
    "# 順伝播\n",
    "def forward_propagation(pulses: list, initial_state: np.ndarray) -> list:\n",
    "    state_history = [initial_state.copy()]\n",
    "    U_list = []\n",
    "    \n",
    "    # ユニタリの計算\n",
    "    for t in range(n_steps): # 各スライス\n",
    "        H = H_drift.copy()\n",
    "\n",
    "        for k in range(len(H_controls)): # 各制御ハミルトニアン\n",
    "            H += pulses[k][t] * H_controls[k] # t地点のH(t)を計算\n",
    "\n",
    "        \n",
    "        U = expm(-1j * dt * H) # propagator：U(t)を計算\n",
    "        \n",
    "\n",
    "        # メモリに保存\n",
    "        U_list.append(U)\n",
    "        state_history.append(U @ state_history[-1]) # 状態の更新\n",
    "\n",
    "    return state_history, U_list\n",
    "\n",
    "def back_propagation(target_state: np.ndarray, U_list: list) -> list:\n",
    "\n",
    "    phi = [None] * (n_steps + 1)\n",
    "    phi[-1] = target_state.copy() # 最終時刻の状態をコピー\n",
    "\n",
    "    for t in reversed(range(n_steps)): # 逆伝播を計算\n",
    "        phi[t] = U_list[t].conj().T @ phi[t+1]\n",
    "\n",
    "    return phi\n",
    "\n",
    "def grape_cost_and_grad(x: list):\n",
    "    \"\"\"\n",
    "    GRAPEアルゴリズムにおけるコスト関数とその勾配を計算する\n",
    "    \n",
    "    Parameters\n",
    "    ----------\n",
    "    \"\"\"\n",
    "    # パルス列を [n_controls] x [n_steps] の行列に変換\n",
    "    pulses = [x[i*n_steps:(i+1)*n_steps] for i in range(len(H_controls))]\n",
    "\n",
    "    # 順伝播\n",
    "    state_history, U_list = forward_propagation(pulses, initial_state)\n",
    "    final_state = state_history[-1]\n",
    "\n",
    "    # フィデリティ\n",
    "    F = fidelity(state_history[-1], target_state)\n",
    "\n",
    "    # 初期共役状態の計算\n",
    "    overlap = (target_state.conj().T @ final_state)[0,0]\n",
    "    chi_T = overlap * target_state # 2x1ベクトル\n",
    "    \n",
    "    # 逆伝播\n",
    "    chi = back_propagation(chi_T, U_list)\n",
    "\n",
    "    # 勾配の計算\n",
    "    grad = np.zeros_like(x)\n",
    "    for k in range(len(H_controls)):\n",
    "        for t in range(n_steps):\n",
    "            # ∂H/∂u_{i,k} = H_controls[i]\n",
    "            bracket = chi[t+1].conj().T @ (-1j * dt * H_controls[k]) @ state_history[t]\n",
    "            # 虚部を取り出す\n",
    "            grad[k*n_steps + t] = -2 * np.imag(bracket)[0, 0]\n",
    "\n",
    "    return -F, -grad"
   ]
  },
  {
   "cell_type": "code",
   "execution_count": null,
   "metadata": {
    "vscode": {
     "languageId": "plaintext"
    }
   },
   "outputs": [],
   "source": [
    "# Util関数\n",
    "\n",
    "history = []\n",
    "def callback_func(x):\n",
    "\n",
    "    # パルス列を [n_controls] x [n_steps] の行列に変換\n",
    "    pulses = [x[i*n_steps:(i+1)*n_steps] for i in range(len(H_controls))]\n",
    "\n",
    "    # 状態を発展\n",
    "    final_state = forward_propagation(pulses, initial_state)[0][-1]\n",
    "\n",
    "    # 忠実度を計算\n",
    "    F = fidelity(final_state, target_state)\n",
    "    history.append(F)\n",
    "\n",
    "    return False"
   ]
  },
  {
   "cell_type": "code",
   "execution_count": null,
   "metadata": {
    "vscode": {
     "languageId": "plaintext"
    }
   },
   "outputs": [],
   "source": [
    "# シミュレーションの実行\n",
    "# 初期パルス\n",
    "np.random.seed(0)\n",
    "initial_pulses_flat = 0.2 * np.random.randn(5 * n_steps)\n",
    "\n",
    "# パルス制約\n",
    "pulse_bounds = [(-1.0, 1.0)] * (5 * n_steps)\n",
    "\n",
    "print(\"最適化を実行...\")\n",
    "start_time = time.time()\n",
    "result = minimize(\n",
    "    grape_cost_and_grad,\n",
    "    initial_pulses_flat,\n",
    "    method=\"L-BFGS-B\",\n",
    "    jac=True,\n",
    "    bounds=pulse_bounds,\n",
    "    callback=callback_func,\n",
    "    options={'maxiter':500, 'disp':True, 'gtol':1e-8}\n",
    ")\n",
    "end_time = time.time()\n",
    "print(f\"最適化経過時間： {end_time - start_time:.2f}秒\")"
   ]
  },
  {
   "cell_type": "code",
   "execution_count": null,
   "metadata": {
    "vscode": {
     "languageId": "plaintext"
    }
   },
   "outputs": [],
   "source": [
    "# 最適化されたパルスを取得\n",
    "optimized_pulses = [\n",
    "    result.x[:n_steps],\n",
    "    result.x[n_steps:2*n_steps],\n",
    "    result.x[2*n_steps:3*n_steps],\n",
    "    result.x[3*n_steps:4*n_steps],\n",
    "    result.x[4*n_steps:5*n_steps]\n",
    "]\n",
    "\n",
    "# 初期値から最終値までの改善を表示\n",
    "initial_fidelity = history[0] if history else 0\n",
    "final_fidelity = history[-1] if history else 0\n",
    "print(f\"初期忠実度: {initial_fidelity:.6f}\")\n",
    "print(f\"最終忠実度: {final_fidelity:.6f}\")\n",
    "print(f\"改善率: {(final_fidelity - initial_fidelity) * 100:.2f}%\")\n",
    "\n",
    "# 最適化されたパルスと忠実度履歴を表示\n",
    "time_grid = np.linspace(0, total_time, n_steps)\n",
    "fig = plt.figure(figsize=(15,8))\n",
    "\n",
    "# 5つのコントロールパルスを表示\n",
    "control_labels = ['X₁制御 (xi)', 'Y₁制御 (yi)', 'X₂制御 (ix)', 'Y₂制御 (iy)', 'ZZ制御 (zz)']\n",
    "colors = ['r', 'g', 'b', 'm', 'c']\n",
    "\n",
    "# 左側に最適化されたパルスのサブプロット（2行2列）\n",
    "for i in range(4):\n",
    "    ax = plt.subplot(2, 3, i+1)\n",
    "    ax.step(time_grid, optimized_pulses[i], f'{colors[i]}-', where='mid', label=control_labels[i])\n",
    "    ax.set_ylabel('振幅')\n",
    "    ax.set_ylim(pulse_bounds[0])\n",
    "    ax.legend()\n",
    "    ax.grid(True)\n",
    "    if i >= 2:  # 下の行のプロットには時間軸ラベルを追加\n",
    "        ax.set_xlabel('時間 [ns]')\n",
    "\n",
    "# ZZ制御用の追加プロット\n",
    "ax5 = plt.subplot(2, 3, 5)\n",
    "ax5.step(time_grid, optimized_pulses[4], f'{colors[4]}-', where='mid', label=control_labels[4])\n",
    "ax5.set_ylabel('振幅')\n",
    "ax5.set_xlabel('時間 [ns]')\n",
    "ax5.set_ylim(pulse_bounds[0])\n",
    "ax5.legend()\n",
    "ax5.grid(True)\n",
    "\n",
    "# 右側に忠実度履歴のサブプロット\n",
    "ax_fidelity = plt.subplot(2, 3, 6)\n",
    "ax_fidelity.plot(history, 'o-k', linewidth=2)\n",
    "ax_fidelity.set_xlabel('反復回数', fontsize=12)\n",
    "ax_fidelity.set_ylabel('忠実度', fontsize=12)\n",
    "ax_fidelity.set_title('最適化過程における忠実度の変化', fontsize=14)\n",
    "ax_fidelity.grid(True)\n",
    "\n",
    "plt.tight_layout()\n",
    "plt.show()"
   ]
  }
 ],
 "metadata": {
  "language_info": {
   "name": "python"
  }
 },
 "nbformat": 4,
 "nbformat_minor": 2
}
